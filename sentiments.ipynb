{
 "cells": [
  {
   "cell_type": "markdown",
   "id": "tender-sullivan",
   "metadata": {},
   "source": [
    "### NLP Project"
   ]
  },
  {
   "cell_type": "markdown",
   "id": "occupational-orange",
   "metadata": {},
   "source": [
    "### Importing Dependencies"
   ]
  },
  {
   "cell_type": "code",
   "execution_count": 1,
   "id": "premium-portugal",
   "metadata": {},
   "outputs": [
    {
     "ename": "ModuleNotFoundError",
     "evalue": "No module named 'spacy'",
     "output_type": "error",
     "traceback": [
      "\u001b[0;31m---------------------------------------------------------------------------\u001b[0m",
      "\u001b[0;31mModuleNotFoundError\u001b[0m                       Traceback (most recent call last)",
      "\u001b[0;32m<ipython-input-1-e225741fefcf>\u001b[0m in \u001b[0;36m<module>\u001b[0;34m\u001b[0m\n\u001b[1;32m     20\u001b[0m \u001b[0;32mfrom\u001b[0m \u001b[0msklearn\u001b[0m\u001b[0;34m.\u001b[0m\u001b[0mmetrics\u001b[0m \u001b[0;32mimport\u001b[0m \u001b[0mclassification_report\u001b[0m\u001b[0;34m,\u001b[0m \u001b[0mconfusion_matrix\u001b[0m\u001b[0;34m,\u001b[0m \u001b[0maccuracy_score\u001b[0m\u001b[0;34m,\u001b[0m \u001b[0mlog_loss\u001b[0m\u001b[0;34m\u001b[0m\u001b[0;34m\u001b[0m\u001b[0m\n\u001b[1;32m     21\u001b[0m \u001b[0;31m# !pip install spacy\u001b[0m\u001b[0;34m\u001b[0m\u001b[0;34m\u001b[0m\u001b[0;34m\u001b[0m\u001b[0m\n\u001b[0;32m---> 22\u001b[0;31m \u001b[0;32mimport\u001b[0m \u001b[0mspacy\u001b[0m\u001b[0;34m\u001b[0m\u001b[0;34m\u001b[0m\u001b[0m\n\u001b[0m\u001b[1;32m     23\u001b[0m \u001b[0;31m# !pip install en_core_web_sm\u001b[0m\u001b[0;34m\u001b[0m\u001b[0;34m\u001b[0m\u001b[0;34m\u001b[0m\u001b[0m\n\u001b[1;32m     24\u001b[0m \u001b[0;32mimport\u001b[0m \u001b[0men_core_web_sm\u001b[0m\u001b[0;34m\u001b[0m\u001b[0;34m\u001b[0m\u001b[0m\n",
      "\u001b[0;31mModuleNotFoundError\u001b[0m: No module named 'spacy'"
     ]
    }
   ],
   "source": [
    "# Importing dependencies\n",
    "from sklearn.svm import SVC\n",
    "from sklearn.model_selection import train_test_split\n",
    "import re\n",
    "import string\n",
    "from nltk.stem import PorterStemmer\n",
    "import nltk\n",
    "# nltk.download()\n",
    "from sklearn import *\n",
    "import bz2\n",
    "import numpy as np\n",
    "import matplotlib.pyplot as plt\n",
    "from collections import Counter\n",
    "import pandas as pd\n",
    "from nltk.corpus import stopwords\n",
    "from nltk.tokenize import word_tokenize\n",
    "from nltk.stem import WordNetLemmatizer \n",
    "from sklearn.feature_extraction.text import CountVectorizer\n",
    "from sklearn.linear_model import LogisticRegression\n",
    "from sklearn.metrics import classification_report, confusion_matrix, accuracy_score, log_loss\n",
    "# !pip install spacy\n",
    "import spacy\n",
    "# !pip install en_core_web_sm\n",
    "import en_core_web_sm \n",
    "nlp = en_core_web_sm.load()\n",
    "# from nltk.stem import SnowballStemmer\n",
    "from timeit import default_timer as timer\n",
    "from sklearn import naive_bayes\n",
    "from wordcloud import WordCloud\n",
    "from flask import Flask\n",
    "import pickle\n",
    "import unicodedata\n",
    "from sklearn.model_selection import RepeatedStratifiedKFold\n",
    "from sklearn.model_selection import GridSearchCV"
   ]
  },
  {
   "cell_type": "markdown",
   "id": "fluid-witch",
   "metadata": {},
   "source": [
    "### Extracting Dataset"
   ]
  },
  {
   "cell_type": "code",
   "execution_count": 4,
   "id": "potential-italian",
   "metadata": {},
   "outputs": [
    {
     "name": "stdout",
     "output_type": "stream",
     "text": [
      "Extracting dataset..............\n",
      "Done........\n"
     ]
    }
   ],
   "source": [
    "# Reading Dataset\n",
    "def extract(file):\n",
    "    target = []\n",
    "    feature = []\n",
    "    for line in bz2.BZ2File(file):\n",
    "        text = line.decode('utf-8')\n",
    "        target.append(text[9])\n",
    "        feature.append(text[10:].strip())\n",
    "    return np.array(target), feature\n",
    "\n",
    "print(\"Extracting dataset..............\")\n",
    "train_label, train_text = extract('train.ft.txt.bz2')\n",
    "test_label, test_text = extract('test.ft.txt.bz2')\n",
    "print('Done........')"
   ]
  },
  {
   "cell_type": "code",
   "execution_count": 5,
   "id": "binding-approach",
   "metadata": {},
   "outputs": [
    {
     "name": "stdout",
     "output_type": "stream",
     "text": [
      "Total size of dataset: 4000000\n"
     ]
    }
   ],
   "source": [
    "print('Total size of dataset:', len(train_text) + len(test_text))"
   ]
  },
  {
   "cell_type": "markdown",
   "id": "unlike-stack",
   "metadata": {},
   "source": [
    "### Data Preparation"
   ]
  },
  {
   "cell_type": "code",
   "execution_count": 202,
   "id": "moral-shock",
   "metadata": {},
   "outputs": [],
   "source": [
    "# en = spacy.load('en_core_web_sm')\n",
    "# sw_spacy = en.Defaults.stop_words\n",
    "lemmatizer = WordNetLemmatizer()\n",
    "\n",
    "def normalize_text(file):\n",
    "    normalized_text = []\n",
    "    table = str.maketrans (\"\",\"\", string.punctuation) #remove punctuation from string\n",
    "    for i in file:\n",
    "        text = i.translate(table)\n",
    "        text = text.lower() # Converting text to lowercase\n",
    "        text = re.sub('\\w*\\d\\w*', '', text) #remove numbers  \n",
    "        text = text.split() # Splitting the sentence into words\n",
    "        text = [i for i in text if len(i) > 2] # dropping all words that are not up to 2 letters\n",
    "        text = [lemmatizer.lemmatize(w) for w in text if not w in sw_spacy] # Lemmatizing and applying stopwords to the text\n",
    "        text = ' '.join(text)\n",
    "        \n",
    "        normalized_text.append(text)\n",
    "    return normalized_text"
   ]
  },
  {
   "cell_type": "code",
   "execution_count": 203,
   "id": "matched-edmonton",
   "metadata": {},
   "outputs": [],
   "source": [
    "train_texts = normalize_text(train_text[:20000])"
   ]
  },
  {
   "cell_type": "code",
   "execution_count": 204,
   "id": "gentle-plasma",
   "metadata": {
    "scrolled": true
   },
   "outputs": [
    {
     "name": "stdout",
     "output_type": "stream",
     "text": [
      "This is the original product review: \n",
      " \n",
      " Oh please: I guess you have to be a romance novel lover for this one, and not a very discerning one. All others beware! It is absolute drivel. I figured I was in trouble when a typo is prominently featured on the back cover, but the first page of the book removed all doubt. Wait - maybe I'm missing the point. A quick re-read of the beginning now makes it clear. This has to be an intentional churning of over-heated prose for satiric purposes. Phew, so glad I didn't waste $10.95 after all.\n"
     ]
    }
   ],
   "source": [
    "print(\"This is the original product review: \\n \\n\", train_text[13])"
   ]
  },
  {
   "cell_type": "code",
   "execution_count": 205,
   "id": "gentle-traffic",
   "metadata": {
    "scrolled": false
   },
   "outputs": [
    {
     "name": "stdout",
     "output_type": "stream",
     "text": [
      "This is the processed product review: \n",
      " \n",
      " guess romance novel lover discerning beware absolute drivel figured trouble typo prominently featured cover page book removed doubt wait maybe missing point quick reread beginning make clear intentional churning overheated prose satiric purpose phew glad didnt waste\n"
     ]
    }
   ],
   "source": [
    "print(\"This is the processed product review: \\n \\n\", train_texts[13])"
   ]
  },
  {
   "cell_type": "code",
   "execution_count": 206,
   "id": "therapeutic-works",
   "metadata": {
    "scrolled": true
   },
   "outputs": [
    {
     "name": "stdout",
     "output_type": "stream",
     "text": [
      "Original text length:  394\n",
      "processed text length:  226\n"
     ]
    }
   ],
   "source": [
    "print(\"Original text length: \", len(train_text[1999]))\n",
    "print(\"processed text length: \", len(train_texts[1999]))"
   ]
  },
  {
   "cell_type": "code",
   "execution_count": 207,
   "id": "surprised-angle",
   "metadata": {
    "scrolled": true
   },
   "outputs": [
    {
     "data": {
      "text/plain": [
       "20000"
      ]
     },
     "execution_count": 207,
     "metadata": {},
     "output_type": "execute_result"
    }
   ],
   "source": [
    "len(train_texts)"
   ]
  },
  {
   "cell_type": "markdown",
   "id": "abandoned-residence",
   "metadata": {},
   "source": [
    "- Converting text data to numerical data."
   ]
  },
  {
   "cell_type": "code",
   "execution_count": 208,
   "id": "aquatic-communication",
   "metadata": {},
   "outputs": [
    {
     "name": "stdout",
     "output_type": "stream",
     "text": [
      "Word size: 1790581\n"
     ]
    }
   ],
   "source": [
    "training_text = train_texts\n",
    "cv = CountVectorizer(ngram_range=(1, 4))\n",
    "cv.fit(training_text)\n",
    "print(\"Word size: {}\".format(len(cv.vocabulary_)))"
   ]
  },
  {
   "cell_type": "code",
   "execution_count": 209,
   "id": "under-dallas",
   "metadata": {
    "scrolled": true
   },
   "outputs": [
    {
     "data": {
      "text/plain": [
       "<20000x1790581 sparse matrix of type '<class 'numpy.int64'>'\n",
       "\twith 2533817 stored elements in Compressed Sparse Row format>"
      ]
     },
     "execution_count": 209,
     "metadata": {},
     "output_type": "execute_result"
    }
   ],
   "source": [
    "BOW = cv.transform(training_text)\n",
    "BOW"
   ]
  },
  {
   "cell_type": "code",
   "execution_count": 210,
   "id": "indonesian-standard",
   "metadata": {},
   "outputs": [],
   "source": [
    "y_train = train_label[:20000]"
   ]
  },
  {
   "cell_type": "code",
   "execution_count": 211,
   "id": "artificial-occasion",
   "metadata": {},
   "outputs": [
    {
     "data": {
      "text/plain": [
       "<20000x1790581 sparse matrix of type '<class 'numpy.int64'>'\n",
       "\twith 2533817 stored elements in Compressed Sparse Row format>"
      ]
     },
     "execution_count": 211,
     "metadata": {},
     "output_type": "execute_result"
    }
   ],
   "source": [
    "X_train_raw = BOW\n",
    "X_train_raw"
   ]
  },
  {
   "cell_type": "markdown",
   "id": "organizational-disorder",
   "metadata": {},
   "source": [
    "### Data Splitting"
   ]
  },
  {
   "cell_type": "code",
   "execution_count": 212,
   "id": "bearing-hopkins",
   "metadata": {},
   "outputs": [
    {
     "name": "stdout",
     "output_type": "stream",
     "text": [
      "Train set:\n",
      "Sizes: (16000, 1790581) (16000,)\n",
      "Test set:\n",
      "Sizes: (4000, 1790581) (4000,)\n"
     ]
    }
   ],
   "source": [
    "X_train, X_test, y_train, y_test = train_test_split(X_train_raw, y_train, test_size = 0.20)\n",
    "\n",
    "# Print shapes and bounds\n",
    "print('Train set:')\n",
    "print('Sizes:', X_train.shape, y_train.shape)  \n",
    "\n",
    "print('Test set:')\n",
    "print('Sizes:', X_test.shape, y_test.shape)\n"
   ]
  },
  {
   "cell_type": "code",
   "execution_count": 213,
   "id": "excellent-conservation",
   "metadata": {},
   "outputs": [
    {
     "name": "stdout",
     "output_type": "stream",
     "text": [
      "Total label frequency: \n",
      " [['1' '2']\n",
      " ['9743' '10257']]\n"
     ]
    },
    {
     "data": {
      "text/plain": [
       "<AxesSubplot:>"
      ]
     },
     "execution_count": 213,
     "metadata": {},
     "output_type": "execute_result"
    },
    {
     "data": {
      "image/png": "[encoded data removed]",
      "text/plain": [
       "<Figure size 432x288 with 1 Axes>"
      ]
     },
     "metadata": {
      "needs_background": "light"
     },
     "output_type": "display_data"
    }
   ],
   "source": [
    "train_labels, train_labels_count = np.unique(y_train, return_counts=True)\n",
    "test_labels, test_labels_count = np.unique(y_test, return_counts=True)\n",
    "label_count = train_labels_count + test_labels_count\n",
    "print(\"Total label frequency: \\n\", np.asarray((train_labels, label_count)))\n",
    "label_df = pd.DataFrame(label_count, train_labels)\n",
    "label_df.transpose()\n",
    "label_df.plot.bar()"
   ]
  },
  {
   "cell_type": "code",
   "execution_count": 214,
   "id": "affecting-structure",
   "metadata": {},
   "outputs": [
    {
     "data": {
      "image/png": "[encoded data removed]",
      "text/plain": [
       "<Figure size 432x288 with 1 Axes>"
      ]
     },
     "metadata": {
      "needs_background": "light"
     },
     "output_type": "display_data"
    }
   ],
   "source": [
    "word_cloud = WordCloud(collocations = False, background_color = 'black', width = 2000, height = 1000).generate(''.join(train_texts))\n",
    "plt.imshow(word_cloud, interpolation='bilinear')\n",
    "plt.axis(\"off\")\n",
    "plt.show()"
   ]
  },
  {
   "cell_type": "markdown",
   "id": "normal-mineral",
   "metadata": {},
   "source": [
    "### Building and Training Data."
   ]
  },
  {
   "cell_type": "markdown",
   "id": "silver-spain",
   "metadata": {},
   "source": [
    "### Logistic Regression"
   ]
  },
  {
   "cell_type": "code",
   "execution_count": 215,
   "id": "lyric-flush",
   "metadata": {},
   "outputs": [
    {
     "name": "stdout",
     "output_type": "stream",
     "text": [
      "Best: 0.858021 using {'C': 100, 'penalty': 'l2', 'solver': 'liblinear'}\n"
     ]
    }
   ],
   "source": [
    "model = LogisticRegression()\n",
    "solvers = ['newton-cg', 'lbfgs', 'liblinear']\n",
    "penalty = ['l2']\n",
    "c_values = [0.1, 100]\n",
    "# define grid search\n",
    "grid = dict(solver=solvers,penalty=penalty,C=c_values)\n",
    "cv = RepeatedStratifiedKFold(n_splits=5, n_repeats=3, random_state=1)\n",
    "grid_search = GridSearchCV(estimator=model, param_grid=grid, n_jobs=-1, cv=cv, scoring='accuracy',error_score=0)\n",
    "grid_result = grid_search.fit(X_train, y_train)\n",
    "# summarize results\n",
    "print(\"Best: %f using %s\" % (grid_result.best_score_, grid_result.best_params_))"
   ]
  },
  {
   "cell_type": "code",
   "execution_count": 198,
   "id": "satisfied-flood",
   "metadata": {},
   "outputs": [],
   "source": [
    "lr = LogisticRegression(random_state=0, solver = 'liblinear', penalty = 'l2', C = 100, max_iter = 1000)"
   ]
  },
  {
   "cell_type": "code",
   "execution_count": 199,
   "id": "boxed-sarah",
   "metadata": {},
   "outputs": [
    {
     "name": "stdout",
     "output_type": "stream",
     "text": [
      "model fit time in seconds:  8.84623881499283\n"
     ]
    }
   ],
   "source": [
    "#measuring time it takes to fit model\n",
    "start = timer()\n",
    "lr_pickle = lr.fit(X_train, y_train)\n",
    "end = timer()\n",
    "print(\"model fit time in seconds: \", end - start)"
   ]
  },
  {
   "cell_type": "code",
   "execution_count": 200,
   "id": "greek-worse",
   "metadata": {
    "scrolled": true
   },
   "outputs": [
    {
     "name": "stdout",
     "output_type": "stream",
     "text": [
      "model prediction time in seconds:  0.069516000978183\n"
     ]
    }
   ],
   "source": [
    "#measuring time it takes to predict\n",
    "start = timer()\n",
    "X_lr_pred = lr.predict(X_test)\n",
    "end = timer()\n",
    "print(\"model prediction time in seconds: \", end - start)"
   ]
  },
  {
   "cell_type": "code",
   "execution_count": 201,
   "id": "dedicated-dietary",
   "metadata": {
    "scrolled": false
   },
   "outputs": [
    {
     "name": "stdout",
     "output_type": "stream",
     "text": [
      "Confusion_matrix: \n",
      " \n",
      " [[1713  261]\n",
      " [ 198 1828]] \n",
      "\n",
      "Accuracy score for logistic regression model:  0.88525 \n",
      "\n",
      "              precision    recall  f1-score   support\n",
      "\n",
      "           1       0.90      0.87      0.88      1974\n",
      "           2       0.88      0.90      0.89      2026\n",
      "\n",
      "    accuracy                           0.89      4000\n",
      "   macro avg       0.89      0.89      0.89      4000\n",
      "weighted avg       0.89      0.89      0.89      4000\n",
      "\n"
     ]
    }
   ],
   "source": [
    "print(\"Confusion_matrix: \\n \\n\", confusion_matrix(y_test, X_lr_pred), '\\n')\n",
    "print(\"Accuracy score for logistic regression model: \", accuracy_score(y_test, X_lr_pred), '\\n')\n",
    "print(classification_report(y_test, X_lr_pred))"
   ]
  },
  {
   "cell_type": "markdown",
   "id": "confused-conclusion",
   "metadata": {},
   "source": [
    "### SVM Model"
   ]
  },
  {
   "cell_type": "code",
   "execution_count": 136,
   "id": "conceptual-canada",
   "metadata": {},
   "outputs": [],
   "source": [
    "svm = SVC(C=3,kernel = 'rbf', random_state = 0)"
   ]
  },
  {
   "cell_type": "code",
   "execution_count": 137,
   "id": "amended-shoulder",
   "metadata": {},
   "outputs": [
    {
     "name": "stdout",
     "output_type": "stream",
     "text": [
      "711.0335148599988\n"
     ]
    }
   ],
   "source": [
    "#measuring time it takes to fit model\n",
    "start = timer()\n",
    "svm.fit(X_train, y_train)\n",
    "end = timer()\n",
    "print(end - start)"
   ]
  },
  {
   "cell_type": "code",
   "execution_count": 138,
   "id": "judicial-simulation",
   "metadata": {},
   "outputs": [
    {
     "name": "stdout",
     "output_type": "stream",
     "text": [
      "59.53519562899601\n"
     ]
    }
   ],
   "source": [
    "#measuring time it takes to fit model\n",
    "start = timer()\n",
    "X_svm_pred = svm.predict(X_test)\n",
    "end = timer()\n",
    "print(end - start)"
   ]
  },
  {
   "cell_type": "code",
   "execution_count": 139,
   "id": "liberal-generic",
   "metadata": {
    "scrolled": true
   },
   "outputs": [
    {
     "name": "stdout",
     "output_type": "stream",
     "text": [
      "SVM Confusion_matrix: \n",
      " \n",
      " [[1678  263]\n",
      " [ 284 1775]] \n",
      "\n",
      "SVM Accuracy score model:  0.86325 \n",
      "\n",
      "              precision    recall  f1-score   support\n",
      "\n",
      "           1       0.86      0.86      0.86      1941\n",
      "           2       0.87      0.86      0.87      2059\n",
      "\n",
      "    accuracy                           0.86      4000\n",
      "   macro avg       0.86      0.86      0.86      4000\n",
      "weighted avg       0.86      0.86      0.86      4000\n",
      "\n"
     ]
    }
   ],
   "source": [
    "print(\"SVM Confusion_matrix: \\n \\n\", confusion_matrix(y_test, X_svm_pred), '\\n')\n",
    "print(\"SVM Accuracy score model: \", accuracy_score(y_test, X_svm_pred), '\\n')\n",
    "print(classification_report(y_test, X_svm_pred))"
   ]
  },
  {
   "cell_type": "markdown",
   "id": "productive-error",
   "metadata": {},
   "source": [
    "Some thing i am working on"
   ]
  },
  {
   "cell_type": "markdown",
   "id": "fourth-guest",
   "metadata": {},
   "source": [
    "### Naive Bayes"
   ]
  },
  {
   "cell_type": "code",
   "execution_count": 163,
   "id": "charged-niagara",
   "metadata": {},
   "outputs": [
    {
     "name": "stdout",
     "output_type": "stream",
     "text": [
      "0.2060097870125901\n"
     ]
    }
   ],
   "source": [
    "NB = naive_bayes.MultinomialNB()\n",
    "\n",
    "#measuring time it takes to fit model\n",
    "start = timer()\n",
    "NB.fit(X_train, y_train)\n",
    "end = timer()\n",
    "print(end - start)"
   ]
  },
  {
   "cell_type": "code",
   "execution_count": 164,
   "id": "diagnostic-behavior",
   "metadata": {},
   "outputs": [
    {
     "name": "stdout",
     "output_type": "stream",
     "text": [
      "0.03920892800670117\n"
     ]
    }
   ],
   "source": [
    "#measuring time it takes to fit model\n",
    "start = timer()\n",
    "X_cl_pred = NB.predict(X_test)\n",
    "end = timer()\n",
    "print(end - start)"
   ]
  },
  {
   "cell_type": "code",
   "execution_count": 165,
   "id": "healthy-strand",
   "metadata": {
    "scrolled": true
   },
   "outputs": [
    {
     "name": "stdout",
     "output_type": "stream",
     "text": [
      "Naive Bayes Confusion_matrix: \n",
      " \n",
      " [[1756  218]\n",
      " [ 274 1752]] \n",
      "\n",
      "Naive Bayes Accuracy score model:  0.877 \n",
      "\n",
      "              precision    recall  f1-score   support\n",
      "\n",
      "           1       0.87      0.89      0.88      1974\n",
      "           2       0.89      0.86      0.88      2026\n",
      "\n",
      "    accuracy                           0.88      4000\n",
      "   macro avg       0.88      0.88      0.88      4000\n",
      "weighted avg       0.88      0.88      0.88      4000\n",
      "\n"
     ]
    }
   ],
   "source": [
    "print(\"Naive Bayes Confusion_matrix: \\n \\n\", confusion_matrix(y_test, X_cl_pred), '\\n')\n",
    "print(\"Naive Bayes Accuracy score model: \", accuracy_score(y_test, X_cl_pred), '\\n')\n",
    "print(classification_report(y_test, X_cl_pred))"
   ]
  },
  {
   "cell_type": "code",
   "execution_count": 143,
   "id": "expanded-resolution",
   "metadata": {},
   "outputs": [],
   "source": [
    "text = \"This book is not so bad\""
   ]
  },
  {
   "cell_type": "code",
   "execution_count": 144,
   "id": "satisfactory-dayton",
   "metadata": {},
   "outputs": [],
   "source": [
    "pickle.dump(lr_pickle, open('sent.pkl', 'wb'))"
   ]
  },
  {
   "cell_type": "code",
   "execution_count": 145,
   "id": "ambient-pennsylvania",
   "metadata": {},
   "outputs": [],
   "source": [
    "test_np = [\"This book is not so bad\"]\n",
    "test = cv.transform(test_np)"
   ]
  },
  {
   "cell_type": "code",
   "execution_count": 146,
   "id": "coated-cosmetic",
   "metadata": {
    "scrolled": true
   },
   "outputs": [
    {
     "data": {
      "text/plain": [
       "array(['1'], dtype='<U1')"
      ]
     },
     "execution_count": 146,
     "metadata": {},
     "output_type": "execute_result"
    }
   ],
   "source": [
    "model = pickle.load(open('sent.pkl', 'rb'))\n",
    "model.predict(test)"
   ]
  },
  {
   "cell_type": "code",
   "execution_count": 101,
   "id": "central-collective",
   "metadata": {},
   "outputs": [],
   "source": [
    "text = normalize_text(test_np)"
   ]
  },
  {
   "cell_type": "code",
   "execution_count": 102,
   "id": "paperback-story",
   "metadata": {},
   "outputs": [
    {
     "name": "stdout",
     "output_type": "stream",
     "text": [
      "['book bad']\n"
     ]
    }
   ],
   "source": [
    "print(text)"
   ]
  },
  {
   "cell_type": "code",
   "execution_count": 95,
   "id": "confident-karma",
   "metadata": {},
   "outputs": [
    {
     "data": {
      "image/png": "[encoded data removed]",
      "text/plain": [
       "<Figure size 432x288 with 1 Axes>"
      ]
     },
     "metadata": {
      "needs_background": "light"
     },
     "output_type": "display_data"
    }
   ],
   "source": [
    "word_cloud = WordCloud(collocations = False, background_color = 'black', width = 2000, height = 1000).generate(text)\n",
    "plt.imshow(word_cloud, interpolation='bilinear')\n",
    "plt.axis(\"off\")\n",
    "plt.show()"
   ]
  },
  {
   "cell_type": "code",
   "execution_count": null,
   "id": "competitive-termination",
   "metadata": {},
   "outputs": [],
   "source": []
  },
  {
   "cell_type": "code",
   "execution_count": null,
   "id": "posted-promise",
   "metadata": {},
   "outputs": [],
   "source": []
  },
  {
   "cell_type": "code",
   "execution_count": null,
   "id": "cellular-assistant",
   "metadata": {},
   "outputs": [],
   "source": []
  }
 ],
 "metadata": {
  "interpreter": {
   "hash": "aee8b7b246df8f9039afb4144a1f6fd8d2ca17a180786b69acc140d282b71a49"
  },
  "kernelspec": {
   "display_name": "Python 3.9.6 64-bit",
   "name": "python3"
  },
  "language_info": {
   "codemirror_mode": {
    "name": "ipython",
    "version": 3
   },
   "file_extension": ".py",
   "mimetype": "text/x-python",
   "name": "python",
   "nbconvert_exporter": "python",
   "pygments_lexer": "ipython3",
   "version": "3.8.5"
  }
 },
 "nbformat": 4,
 "nbformat_minor": 5
}
